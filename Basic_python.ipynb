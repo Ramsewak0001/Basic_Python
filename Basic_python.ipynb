{
 "cells": [
  {
   "cell_type": "code",
   "execution_count": null,
   "id": "99ba6a79-63e3-4a88-82ce-d52a28860565",
   "metadata": {},
   "outputs": [],
   "source": [
    "Q1. Who developed Python Programming Language?"
   ]
  },
  {
   "cell_type": "code",
   "execution_count": null,
   "id": "8c863ac4-73dd-4a5a-a084-817a2efad1a5",
   "metadata": {},
   "outputs": [],
   "source": [
    "Ans.   December 1989 by Guido van Rossum"
   ]
  },
  {
   "cell_type": "code",
   "execution_count": null,
   "id": "fdd56049-1ef4-4f77-a389-a8acf117f981",
   "metadata": {},
   "outputs": [],
   "source": [
    "Q2. Which type of Programming does Python support?"
   ]
  },
  {
   "cell_type": "code",
   "execution_count": null,
   "id": "45f118dc-f425-459a-8d2c-d36d738f287b",
   "metadata": {},
   "outputs": [],
   "source": [
    "Ans. It supports object-oriented programming "
   ]
  },
  {
   "cell_type": "code",
   "execution_count": null,
   "id": "34fbfab3-87c8-45c9-9b36-a4aa6f4926d7",
   "metadata": {},
   "outputs": [],
   "source": [
    "Q3. Is Python case sensitive when dealing with identifiers?"
   ]
  },
  {
   "cell_type": "code",
   "execution_count": null,
   "id": "e80e6a30-282e-4af6-8703-7be007240dd9",
   "metadata": {},
   "outputs": [],
   "source": [
    "Ans. Yes, Identifiers in Python are case-sensitive. Python identifier names can contain letters, digits, or underscores only."
   ]
  },
  {
   "cell_type": "code",
   "execution_count": null,
   "id": "79f15264-dff8-4ca3-86d6-e951fb4daaea",
   "metadata": {},
   "outputs": [],
   "source": [
    "Q4. What is the correct extension of the Python file?"
   ]
  },
  {
   "cell_type": "code",
   "execution_count": null,
   "id": "ce95178a-a911-45a8-b5c8-93638859da86",
   "metadata": {},
   "outputs": [],
   "source": [
    "Ans. the correct extension of the Python file is .py"
   ]
  },
  {
   "cell_type": "code",
   "execution_count": null,
   "id": "1f3ab604-2946-4025-a888-d349a586b638",
   "metadata": {},
   "outputs": [],
   "source": [
    "Q5. Is python code compiled or interpreted?"
   ]
  },
  {
   "cell_type": "code",
   "execution_count": null,
   "id": "6de6d663-b58d-4b7a-8f24-56364f9e5933",
   "metadata": {},
   "outputs": [],
   "source": [
    "Ans. In various books of python programming, it is mentioned that python language is interpreted.\n",
    "     But that is half correct the python program is first compiled and then interpreted.\n",
    "     The compilation part is hidden from the programmer thus, many programmers believe that it is an interpreted language. \n",
    "     The compilation part is done first when we execute our code and this will generate byte code and internally \n",
    "     this byte code gets converted by the python virtual machine(p.v.m) according to the underlying platform(machine+operating system)."
   ]
  },
  {
   "cell_type": "code",
   "execution_count": null,
   "id": "60821d55-e867-4f3a-93f5-459444199161",
   "metadata": {},
   "outputs": [],
   "source": [
    "Q6. Name a few blocks of code used to define in python language?"
   ]
  },
  {
   "cell_type": "code",
   "execution_count": null,
   "id": "e2ed0dcc-9352-423b-8ca6-4c675ebfe678",
   "metadata": {},
   "outputs": [],
   "source": [
    "Ans. A block is a piece of Python program text that is executed as a unit. The following are blocks: a module, a function body, and a class definition"
   ]
  },
  {
   "cell_type": "code",
   "execution_count": null,
   "id": "0775448d-350e-41fd-b64e-b010417d2a0d",
   "metadata": {},
   "outputs": [],
   "source": [
    "Q7. State a character used to give single-line comments in the Python"
   ]
  },
  {
   "cell_type": "code",
   "execution_count": null,
   "id": "2976349a-2dba-433e-bff6-17f41ca14f6a",
   "metadata": {},
   "outputs": [],
   "source": [
    "Ans. The character used to give single-line comments in Python is the hash character (#)"
   ]
  },
  {
   "cell_type": "code",
   "execution_count": null,
   "id": "f35b18b5-c8df-4627-9909-c88d8ea21d34",
   "metadata": {},
   "outputs": [],
   "source": [
    "Q8.Mention functions which can help us to find the version of python that we are currently working on?"
   ]
  },
  {
   "cell_type": "code",
   "execution_count": null,
   "id": "7e465d54-e244-4bab-a508-c1f6ee3a57cf",
   "metadata": {},
   "outputs": [],
   "source": [
    "Ans. 1. Using the command python --version in the terminal or command prompt.\n",
    "     2. Using the command sys.version in the Python shell.\n",
    "     3. Using the command sys.version_info in the Python shell."
   ]
  },
  {
   "cell_type": "code",
   "execution_count": null,
   "id": "2dd9fef4-00b5-42c2-90c3-bed7b4d2f460",
   "metadata": {},
   "outputs": [],
   "source": [
    "Q9. Python supports the creation of anonymous function at runtime,using a construct called _____"
   ]
  },
  {
   "cell_type": "code",
   "execution_count": null,
   "id": "b0c20dc7-35a1-4236-9148-539c496d39c4",
   "metadata": {},
   "outputs": [],
   "source": [
    "Ans. Lambda function"
   ]
  },
  {
   "cell_type": "code",
   "execution_count": null,
   "id": "96899788-15ee-442a-98fd-ca00e8590188",
   "metadata": {},
   "outputs": [],
   "source": [
    "Q10. What does pip stand for python?"
   ]
  },
  {
   "cell_type": "code",
   "execution_count": null,
   "id": "942fa39b-abf3-4599-9ed7-b0a071ffda95",
   "metadata": {},
   "outputs": [],
   "source": [
    "Ans. PIP stands for \"Perferred Installer Program\". PIP is used to install and manage software packages written in Python."
   ]
  },
  {
   "cell_type": "code",
   "execution_count": null,
   "id": "0216624c-f6aa-4f69-925c-067461448581",
   "metadata": {},
   "outputs": [],
   "source": [
    "Q11. Mention a few built-in function in python?"
   ]
  },
  {
   "cell_type": "code",
   "execution_count": null,
   "id": "b20165cb-f71d-446f-a62c-358993088e01",
   "metadata": {},
   "outputs": [],
   "source": [
    "Ans. range() : generate a sequence of number \n",
    "     sorted(): return a sorted list\n",
    "     type()  : return the type of an Object\n",
    "     input() : Allowing user to input\n",
    "     len()   : return the length of an Object\n",
    "     list()  : return a list"
   ]
  },
  {
   "cell_type": "code",
   "execution_count": null,
   "id": "bbe5d80b-0e97-4f27-89cc-e237b6e55cf4",
   "metadata": {},
   "outputs": [],
   "source": [
    "Q12. What is the maximum possible length of an identifier in Python?"
   ]
  },
  {
   "cell_type": "code",
   "execution_count": null,
   "id": "bd2bdc3d-0570-4776-8331-8a2521460ec6",
   "metadata": {},
   "outputs": [],
   "source": [
    "Ans. 79 characters"
   ]
  },
  {
   "cell_type": "code",
   "execution_count": null,
   "id": "dcb50e23-2b41-41af-be32-3d981d28e42b",
   "metadata": {},
   "outputs": [],
   "source": [
    "Q13. What are the benefits of using Python?"
   ]
  },
  {
   "cell_type": "code",
   "execution_count": null,
   "id": "37836bcb-d586-4864-b3e3-d1bb97a2099f",
   "metadata": {},
   "outputs": [],
   "source": [
    "Ans. Python is a versatile programming language that can be used for a wide range of applications.\n",
    "     Some of the benefits of using Python include its flexibility, readability, scalability, portability and speed.\n",
    "     It is also one of the only programming languages that support math-intensive applications.\n",
    "     Python is extensible and has a large active community base.\n",
    "     It has extensive support libraries such as NumPy for numerical calculations and Pandas for data analytics.\n",
    "     Python is easy to learn and write, with user-friendly data structures.\n",
    "     Python is used for everyday tasks such as data analysis and machine learning4"
   ]
  },
  {
   "cell_type": "code",
   "execution_count": null,
   "id": "d3bae284-5ce2-499f-ab2b-af3f9d4a2451",
   "metadata": {},
   "outputs": [],
   "source": [
    "Q14. How is memory managed in Python?"
   ]
  },
  {
   "cell_type": "code",
   "execution_count": null,
   "id": "c964f121-32e5-49a9-bf5d-be351597e2e3",
   "metadata": {},
   "outputs": [],
   "source": [
    "Ans. Memory allocation can be defined as allocating a block of space in the computer memory to a program\n",
    "     a = 10\n",
    "     here a is a variavle and it store the value 10 in the memory."
   ]
  },
  {
   "cell_type": "code",
   "execution_count": null,
   "id": "76b243a5-de0a-4509-a0fe-201b78dbd4e3",
   "metadata": {},
   "outputs": [],
   "source": [
    "Q15. How to install Python on Window and set path variables?"
   ]
  },
  {
   "cell_type": "code",
   "execution_count": null,
   "id": "3cd4c9e6-8f9f-4066-9ef0-a44be972b3d0",
   "metadata": {},
   "outputs": [],
   "source": [
    "Ans.  To install Python on Windows :\n",
    "        Run the installer:\n",
    "        - Locate the downloaded installer and double-click on it.\n",
    "        - Check the box that says \"Add Python to PATH\" during the installation setup.\n",
    "        - Click on \"Install Now\" to begin the installation process.\n",
    "        Customize installation (optional):\n",
    "        - If you want to customize the installation, you can click on the \"Customize installation\" button instead of \"Install Now.\"\n",
    "        - Here you can choose the features you want to install, change the installation directory, or install for all users.\n",
    "\n",
    "      Add Python to PATH manually :\n",
    "        - If you didn't check the \"Add Python to PATH\" option during installation, you can add it manually.\n",
    "        - Open the Start menu and search for \"environment variables\" or \"Edit the system environment variables\" and open the corresponding option.\n",
    "        - In the System Properties window, click on the \"Environment Variables\" button.\n",
    "        - Under the \"System variables\" section, scroll down and look for the \"Path\" variable.\n",
    "        - Select the \"Path\" variable and click on the \"Edit\" button.\n",
    "        - Click on the \"New\" button and add the path to the Python installation directory. By default, it is `C:\\Python39` for Python 3.9.\n",
    "        - Click \"OK\" to save the changes."
   ]
  },
  {
   "cell_type": "code",
   "execution_count": null,
   "id": "20848248-f6fd-4c5b-b60c-358a0470f1a1",
   "metadata": {},
   "outputs": [],
   "source": [
    "Q16. Is indentation required in Python?"
   ]
  },
  {
   "cell_type": "code",
   "execution_count": null,
   "id": "2b5c934f-1730-452c-9626-1333003c89ba",
   "metadata": {},
   "outputs": [],
   "source": [
    "Ans. Yes, Indentation is a very important concept of Python because without proper indenting the Python code,\n",
    "     you will end up seeing IndentationError and the code will not get compiled."
   ]
  }
 ],
 "metadata": {
  "kernelspec": {
   "display_name": "Python 3 (ipykernel)",
   "language": "python",
   "name": "python3"
  },
  "language_info": {
   "codemirror_mode": {
    "name": "ipython",
    "version": 3
   },
   "file_extension": ".py",
   "mimetype": "text/x-python",
   "name": "python",
   "nbconvert_exporter": "python",
   "pygments_lexer": "ipython3",
   "version": "3.10.8"
  }
 },
 "nbformat": 4,
 "nbformat_minor": 5
}
